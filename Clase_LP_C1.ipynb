{
  "nbformat": 4,
  "nbformat_minor": 0,
  "metadata": {
    "colab": {
      "provenance": [],
      "authorship_tag": "ABX9TyMb3g0W6dCDEaNQHBTovC1P",
      "include_colab_link": true
    },
    "kernelspec": {
      "name": "python3",
      "display_name": "Python 3"
    },
    "language_info": {
      "name": "python"
    }
  },
  "cells": [
    {
      "cell_type": "markdown",
      "metadata": {
        "id": "view-in-github",
        "colab_type": "text"
      },
      "source": [
        "<a href=\"https://colab.research.google.com/github/edcaamal/UacLp1A/blob/master/Clase_LP_C1.ipynb\" target=\"_parent\"><img src=\"https://colab.research.google.com/assets/colab-badge.svg\" alt=\"Open In Colab\"/></a>"
      ]
    },
    {
      "cell_type": "markdown",
      "source": [
        "# Titulo 1\n",
        "## Titulo 2\n",
        "### Titulo 3\n",
        "\n",
        "Texto Normal\n",
        "\n",
        "\n"
      ],
      "metadata": {
        "id": "KxXQm_x8gqNV"
      }
    },
    {
      "cell_type": "code",
      "execution_count": null,
      "metadata": {
        "colab": {
          "base_uri": "https://localhost:8080/"
        },
        "id": "XhM-IseTZV2M",
        "outputId": "fa1c2348-8c96-48cd-c7da-861d8608df9a"
      },
      "outputs": [
        {
          "output_type": "stream",
          "name": "stdout",
          "text": [
            "Hola mundo\n",
            "123\n",
            "234.45\n",
            "QWE\n",
            "True\n",
            "False\n",
            "Edgar David 51\n"
          ]
        }
      ],
      "source": [
        "print(\"Hola mundo\")\n",
        "print (123)\n",
        "print(234.450)\n",
        "print('QWE')\n",
        "print(True)\n",
        "print(False)\n",
        "print(\"Edgar\", \"David\", 51)"
      ]
    },
    {
      "cell_type": "code",
      "source": [
        "print(\"Hola mundo \"+\"\\n\"+\"Donde estas\")"
      ],
      "metadata": {
        "colab": {
          "base_uri": "https://localhost:8080/"
        },
        "id": "1IetlqRYe3hP",
        "outputId": "f09914b4-85f9-44e4-dc96-3c280b1feac5"
      },
      "execution_count": null,
      "outputs": [
        {
          "output_type": "stream",
          "name": "stdout",
          "text": [
            "Hola mundo \n",
            "Donde estas\n"
          ]
        }
      ]
    }
  ]
}